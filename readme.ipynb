{
 "cells": [
  {
   "cell_type": "markdown",
   "id": "7694799f",
   "metadata": {},
   "source": [
    "# Telco_ Project\n",
    "by cristian ibarra "
   ]
  },
  {
   "cell_type": "markdown",
   "id": "cf802cf9",
   "metadata": {},
   "source": [
    "# Project Goals:\n",
    "\n",
    "Find drivers for customer churn at Telco. Why are customers churning?\n",
    "\n",
    "Construct a ML classification model that accurately predicts customer churn.\n",
    "\n",
    "Deliver a report that a non-data scientist can read through and understand what steps were taken, why and what was the outcome?"
   ]
  },
  {
   "cell_type": "markdown",
   "id": "e03117a2",
   "metadata": {},
   "source": [
    "# Project steps:\n",
    "\n",
    "Step 1: Understanding the Problem.\n",
    "\n",
    "Step 2: Data Extraction.\n",
    "\n",
    "Step 3: Data Cleaning.\n",
    "\n",
    "Step 4: Exploratory Data Analysis.\n",
    "\n",
    "Step 5: Feature Selection.\n",
    "\n",
    "Step 6: Testing the Models.\n",
    "\n",
    "Step 7: Deploying the Model."
   ]
  },
  {
   "cell_type": "markdown",
   "id": "12d61f16",
   "metadata": {},
   "source": [
    "# Hypotheses:\n",
    "Ho1 -> There is no association between churn and a customer gender optic Ha1 -> There is an association between churn and a customer gender\n",
    "\n",
    "Ho2 -> There is no association between churn and a customer having multiple lines Ha2 -> There is an association between churn and a customer having multiple lines\n",
    "\n",
    "HoFinal ->"
   ]
  },
  {
   "cell_type": "markdown",
   "id": "4495cc32",
   "metadata": {},
   "source": [
    "# Goal:\n",
    "Churn — Whether the customer churned or not (Yes or No)"
   ]
  },
  {
   "cell_type": "markdown",
   "id": "fb62a7f3",
   "metadata": {},
   "source": [
    "# findings, and key takeaways\n"
   ]
  },
  {
   "cell_type": "code",
   "execution_count": null,
   "id": "028f87ed",
   "metadata": {},
   "outputs": [],
   "source": []
  },
  {
   "cell_type": "markdown",
   "id": "2803d317",
   "metadata": {},
   "source": [
    "# Deliverables:\n",
    "1-Readme (.md)\n",
    "\n",
    "2-Final Report (.ipynb) \n",
    "\n",
    "3-Acquire (.py)\n",
    "\n",
    "4-Prepare Modules (.py)\n",
    "\n",
    "5-Predictions (.csv)."
   ]
  }
 ],
 "metadata": {
  "kernelspec": {
   "display_name": "Python 3 (ipykernel)",
   "language": "python",
   "name": "python3"
  },
  "language_info": {
   "codemirror_mode": {
    "name": "ipython",
    "version": 3
   },
   "file_extension": ".py",
   "mimetype": "text/x-python",
   "name": "python",
   "nbconvert_exporter": "python",
   "pygments_lexer": "ipython3",
   "version": "3.9.12"
  }
 },
 "nbformat": 4,
 "nbformat_minor": 5
}
